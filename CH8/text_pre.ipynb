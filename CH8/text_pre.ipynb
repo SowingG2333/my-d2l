{
 "cells": [
  {
   "cell_type": "code",
   "execution_count": 55,
   "metadata": {},
   "outputs": [],
   "source": [
    "import collections\n",
    "import re\n",
    "from d2l import torch as d2l"
   ]
  },
  {
   "cell_type": "code",
   "execution_count": 56,
   "metadata": {},
   "outputs": [
    {
     "name": "stdout",
     "output_type": "stream",
     "text": [
      "# 文本总行数: 3221\n",
      "the time machine by h g wells\n",
      "twinkled and his usually pale face was flushed and animated the\n"
     ]
    }
   ],
   "source": [
    "# 读取数据集\n",
    "d2l.DATA_HUB['time_machine'] = (d2l.DATA_URL + 'timemachine.txt',\n",
    "                                '090b5e7e70c295757f55df93cb0a180b9691891a')\n",
    "\n",
    "def read_time_machine():\n",
    "    \"\"\"将时间机器数据集加载到文本行的列表中\"\"\"\n",
    "    with open(d2l.download('time_machine'), 'r') as f:\n",
    "        lines = f.readlines()\n",
    "    return [re.sub('[^A-Za-z]+', ' ', line).strip().lower() for line in lines]\n",
    "\n",
    "lines = read_time_machine()\n",
    "print(f'# 文本总行数: {len(lines)}')\n",
    "print(lines[0])\n",
    "print(lines[10])"
   ]
  },
  {
   "cell_type": "code",
   "execution_count": 57,
   "metadata": {},
   "outputs": [
    {
     "name": "stdout",
     "output_type": "stream",
     "text": [
      "['the', 'time', 'machine', 'by', 'h', 'g', 'wells']\n",
      "[]\n",
      "[]\n",
      "[]\n",
      "[]\n",
      "['i']\n",
      "[]\n",
      "[]\n",
      "['the', 'time', 'traveller', 'for', 'so', 'it', 'will', 'be', 'convenient', 'to', 'speak', 'of', 'him']\n",
      "['was', 'expounding', 'a', 'recondite', 'matter', 'to', 'us', 'his', 'grey', 'eyes', 'shone', 'and']\n",
      "['twinkled', 'and', 'his', 'usually', 'pale', 'face', 'was', 'flushed', 'and', 'animated', 'the']\n"
     ]
    }
   ],
   "source": [
    "# 定义tokenize函数\n",
    "def tokenize(lines, token='word'):\n",
    "    if token == 'word':\n",
    "        return [line.split() for line in lines]         # 按空格分割\n",
    "    elif token == 'char':\n",
    "        return [list(line) for line in lines]           # 按字符分割\n",
    "    else:\n",
    "        print('错误：未知token类型：' + token)\n",
    "\n",
    "tokens = tokenize(lines)\n",
    "for i in range(11):\n",
    "    print(tokens[i])"
   ]
  },
  {
   "cell_type": "code",
   "execution_count": 58,
   "metadata": {},
   "outputs": [],
   "source": [
    "\"\"\"\n",
    "构建一个词表，将字符串类型的词元映射到从0开始的数字索引\n",
    "先将训练集中的文档合并到一起，进行唯一词元的统计，得到的结果为语料\n",
    "然后根据每一个词元的出现频率，对词元进行排序，最后将词元映射到数字索引（出现很少的词元通常被排除以降低复杂性）\n",
    "除此之外，语料库中不存在或已删除的任何词元都将映射到一个特定的未知词元 “<unk>”\n",
    "\"\"\"\n",
    "class Vocab:\n",
    "    def __init__(self, tokens=None, reversed_tokens=None, min_freq=0):\n",
    "        if tokens is None:\n",
    "            tokens = []\n",
    "        if reversed_tokens is None:\n",
    "            reversed_tokens = []\n",
    "        \n",
    "        # 计算词频\n",
    "        \"\"\"\n",
    "        count_corpus() 是一个函数，用于统计语料库中每个token出现的次数\n",
    "        tokens 是输入的分词后的语料库，包含所有文本的词元\n",
    "        函数返回一个 Counter 对象（来自 Python 的 collections 模块），它类似于字典，键是词元，值是该词元出现的次数\n",
    "        \"\"\"\n",
    "        counter = count_corpus(tokens)\n",
    "        \"\"\"\n",
    "        .items() 方法将 counter 对象转换为列表，其中每个元素都是一个键值对\n",
    "        sorted() 函数按照词频从高到低对词元进行排序\n",
    "        lambda x: x[1] 指定了排序的关键字，即词频（lambda是创建一个匿名函数的关键字，x是输入，x[1]表示输入的第二个元素，即词频）\n",
    "        匿名函数是指没有名字的函数，它允许在不定义函数的情况下创建函数对象\n",
    "        reverse=True 指定按照词频从高到低排序\n",
    "        \"\"\"           \n",
    "        self.token_freqs = sorted(counter.items(), key=lambda x: x[1], reverse=True)\n",
    "\n",
    "        # 构建id与token的双向索引，其中“<unk>”标记的索引为0\n",
    "        self.idx_to_token = ['<unk>'] + [token for token, freq in self.token_freqs if freq >= min_freq]\n",
    "        self.token_to_idx = {token: idx for idx, token in enumerate(self.idx_to_token)}\n",
    "\n",
    "        for token, freq in self.token_freqs:\n",
    "            if freq < min_freq:\n",
    "                break\n",
    "            # 如果词元不在词典中，则将其添加到词典中\n",
    "            if token not in self.token_to_idx:\n",
    "                self.token_to_idx[token] = len(self.idx_to_token)\n",
    "                self.idx_to_token.append(token)\n",
    "\n",
    "    # 获取词典中词元的总数\n",
    "    def __len__(self):\n",
    "        return len(self.idx_to_token)\n",
    "    \n",
    "    # 递归地将词元转换为索引\n",
    "    def __getitem__(self, tokens):\n",
    "        if not isinstance(tokens, (list, tuple)):                               # isinstance() 函数来判断一个对象是否是一个已知的类型，这里判断tokens是否是列表或者元组类型\n",
    "            return self.token_to_idx.get(tokens, self.token_to_idx['<unk>'])    # 如果tokens不是列表或者元组类型，则返回tokens对应的索引，如果tokens不在词典中，则返回unk对应的索引\n",
    "        return [self.__getitem__(token) for token in tokens]                    # 如果tokens是列表或者元组类型，则返回tokens中每个元素对应的索引\n",
    "        \n",
    "def count_corpus(tokens):\n",
    "    \"\"\"统计词元的频率\"\"\"\n",
    "    # 这里的tokens是1D列表或2D列表\n",
    "    if len(tokens) == 0 or isinstance(tokens[0], list):\n",
    "        # 将词元列表展平成一个列表\n",
    "        tokens = [token for line in tokens for token in line]\n",
    "    return collections.Counter(tokens)"
   ]
  },
  {
   "cell_type": "code",
   "execution_count": 59,
   "metadata": {},
   "outputs": [
    {
     "name": "stdout",
     "output_type": "stream",
     "text": [
      "[('<unk>', 0), ('the', 1), ('i', 2), ('and', 3), ('of', 4), ('a', 5), ('to', 6), ('was', 7), ('in', 8), ('that', 9)]\n"
     ]
    }
   ],
   "source": [
    "# 构建一个词典\n",
    "vocab = Vocab(tokens)\n",
    "print(list(vocab.token_to_idx.items())[:10])"
   ]
  },
  {
   "cell_type": "code",
   "execution_count": 60,
   "metadata": {},
   "outputs": [
    {
     "name": "stdout",
     "output_type": "stream",
     "text": [
      "文本: ['the', 'time', 'machine', 'by', 'h', 'g', 'wells']\n",
      "索引: [1, 19, 50, 40, 2183, 2184, 400]\n",
      "文本: ['twinkled', 'and', 'his', 'usually', 'pale', 'face', 'was', 'flushed', 'and', 'animated', 'the']\n",
      "索引: [2186, 3, 25, 1044, 362, 113, 7, 1421, 3, 1045, 1]\n"
     ]
    }
   ],
   "source": [
    "for i in [0, 10]:\n",
    "    print('文本:', tokens[i])\n",
    "    print('索引:', vocab[tokens[i]])"
   ]
  },
  {
   "cell_type": "code",
   "execution_count": null,
   "metadata": {},
   "outputs": [
    {
     "data": {
      "text/plain": [
       "(170580, 28)"
      ]
     },
     "execution_count": 61,
     "metadata": {},
     "output_type": "execute_result"
    }
   ],
   "source": [
    "def load_corpus_time_machine(max_tokens=-1):\n",
    "    \"\"\"返回时光机器数据集的词元索引列表和词表\"\"\"\n",
    "    lines = read_time_machine()\n",
    "    tokens = tokenize(lines, 'char')\n",
    "    vocab = Vocab(tokens)\n",
    "    # 因为时光机器数据集中的每个文本行不一定是一个句子或一个段落，所以将所有文本行展平到一个列表中\n",
    "    corpus = [vocab[token] for line in tokens for token in line]\n",
    "    if max_tokens > 0:\n",
    "        corpus = corpus[:max_tokens]\n",
    "    return corpus, vocab\n",
    "\n",
    "# 获取时光机器数据集的词元索引列表和词表，并返回词元索引列表和词表的长度\n",
    "corpus, vocab = load_corpus_time_machine()\n",
    "len(corpus), len(vocab)"
   ]
  }
 ],
 "metadata": {
  "kernelspec": {
   "display_name": "py39_d2l",
   "language": "python",
   "name": "python3"
  },
  "language_info": {
   "codemirror_mode": {
    "name": "ipython",
    "version": 3
   },
   "file_extension": ".py",
   "mimetype": "text/x-python",
   "name": "python",
   "nbconvert_exporter": "python",
   "pygments_lexer": "ipython3",
   "version": "3.9.21"
  }
 },
 "nbformat": 4,
 "nbformat_minor": 2
}
